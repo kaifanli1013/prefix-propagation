{
 "cells": [
  {
   "cell_type": "code",
   "execution_count": 3,
   "metadata": {},
   "outputs": [
    {
     "name": "stdout",
     "output_type": "stream",
     "text": [
      "total param is 370178\n",
      "Loss: tensor(0.6268, grad_fn=<NllLossBackward0>)\n",
      "Logits: tensor([[-0.0557,  0.2122],\n",
      "        [-0.1066,  0.5510]], grad_fn=<AddmmBackward0>)\n",
      "Hidden States: None\n",
      "Attentions: None\n"
     ]
    }
   ],
   "source": [
    "import torch\n",
    "from transformers import BertConfig\n",
    "from model.sequence_classification import BertPrefixForSequenceClassification\n",
    "\n",
    "# Define a configuration\n",
    "config = BertConfig(\n",
    "    num_labels=2,  # Change this based on your task\n",
    "    hidden_dropout_prob=0.1,\n",
    "    pre_seq_len=20,  # Adjust this based on your needs\n",
    "    num_hidden_layers=12,\n",
    "    num_attention_heads=12,\n",
    "    hidden_size=768,\n",
    ")\n",
    "config.prefix_projection = False\n",
    "config.add_pre_seq_len = False\n",
    "# Create an instance of your model\n",
    "model = BertPrefixForSequenceClassification(config)\n",
    "\n",
    "# Generate dummy input data\n",
    "batch_size = 2\n",
    "input_ids = torch.randint(0, config.vocab_size, (batch_size, 50))  # Adjust seq length\n",
    "attention_mask = torch.ones(batch_size, 50)  # Adjust seq length\n",
    "labels = torch.randint(0, config.num_labels, (batch_size,))  # Adjust num_labels\n",
    "\n",
    "# Run the model forward\n",
    "outputs = model(\n",
    "    input_ids=input_ids,\n",
    "    attention_mask=attention_mask,\n",
    "    labels=labels\n",
    ")\n",
    "\n",
    "# Print the outputs\n",
    "print(\"Loss:\", outputs.loss)\n",
    "print(\"Logits:\", outputs.logits)\n",
    "print(\"Hidden States:\", outputs.hidden_states)\n",
    "print(\"Attentions:\", outputs.attentions)\n"
   ]
  },
  {
   "cell_type": "code",
   "execution_count": 7,
   "metadata": {},
   "outputs": [
    {
     "data": {
      "text/plain": [
       "torch.Size([2, 50])"
      ]
     },
     "execution_count": 7,
     "metadata": {},
     "output_type": "execute_result"
    }
   ],
   "source": [
    "attention_mask.shape"
   ]
  }
 ],
 "metadata": {
  "kernelspec": {
   "display_name": "summarization",
   "language": "python",
   "name": "python3"
  },
  "language_info": {
   "codemirror_mode": {
    "name": "ipython",
    "version": 3
   },
   "file_extension": ".py",
   "mimetype": "text/x-python",
   "name": "python",
   "nbconvert_exporter": "python",
   "pygments_lexer": "ipython3",
   "version": "3.10.12"
  },
  "orig_nbformat": 4
 },
 "nbformat": 4,
 "nbformat_minor": 2
}
